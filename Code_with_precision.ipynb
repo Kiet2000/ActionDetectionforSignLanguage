{
  "nbformat": 4,
  "nbformat_minor": 0,
  "metadata": {
    "colab": {
      "provenance": [],
      "authorship_tag": "ABX9TyMrbMbGinauEbbTEW0VtRrf",
      "include_colab_link": true
    },
    "kernelspec": {
      "name": "python3",
      "display_name": "Python 3"
    },
    "language_info": {
      "name": "python"
    }
  },
  "cells": [
    {
      "cell_type": "markdown",
      "metadata": {
        "id": "view-in-github",
        "colab_type": "text"
      },
      "source": [
        "<a href=\"https://colab.research.google.com/github/Kiet2000/ActionDetectionforSignLanguage/blob/main/Code_with_precision.ipynb\" target=\"_parent\"><img src=\"https://colab.research.google.com/assets/colab-badge.svg\" alt=\"Open In Colab\"/></a>"
      ]
    },
    {
      "cell_type": "code",
      "source": [
        "import time\n",
        "start_time = time.time()\n"
      ],
      "metadata": {
        "id": "NxkLhGpJ0IrJ"
      },
      "execution_count": 104,
      "outputs": []
    },
    {
      "cell_type": "code",
      "source": [
        "import pandas as pd\n",
        "import numpy as np\n",
        "import requests\n",
        "from io import StringIO\n",
        "from IPython.display import display\n",
        "from random import shuffle\n",
        "from itertools import combinations"
      ],
      "metadata": {
        "id": "Q_ifGwsTSxDk"
      },
      "execution_count": 105,
      "outputs": []
    },
    {
      "cell_type": "markdown",
      "source": [
        "1. Load the data with encoding\n",
        "Concatenate the values in each record into one single string.\n",
        "2. Change all alphabetical characters into lowercase.\n",
        "3. Convert multiple spaces to one.\n",
        "4. Combine the records from both tables into one big list as we did during the lab but keep the ID's intact."
      ],
      "metadata": {
        "id": "ApzYitWCPdix"
      }
    },
    {
      "cell_type": "code",
      "execution_count": 106,
      "metadata": {
        "id": "3DvGTXGPSe04"
      },
      "outputs": [],
      "source": [
        "\n",
        "# Load the datasets\n",
        "df_ACM = pd.read_csv('ACM.csv', header=0, quotechar='\"', sep=\",\", na_values=['na', '-', '.', ''])\n",
        "df_DBLP2 = pd.read_csv('DBLP2.csv', header=0, quotechar='\"', sep=\",\", encoding=\"ISO-8859-1\", na_values=['na', '-', '.', ''])\n",
        "\n",
        "# Concatenate the values in each record into one single string\n",
        "df_ACM['combined'] = df_ACM.apply(lambda row: ' '.join(row.dropna().astype(str)), axis=1)\n",
        "df_DBLP2['combined'] = df_DBLP2.apply(lambda row: ' '.join(row.dropna().astype(str)), axis=1)\n",
        "\n",
        "# Change all alphabetical characters into lowercase and convert multiple spaces to one\n",
        "df_ACM['combined'] = df_ACM['combined'].str.lower().str.replace(r'\\s+', ' ', regex=True)\n",
        "df_DBLP2['combined'] = df_DBLP2['combined'].str.lower().str.replace(r'\\s+', ' ', regex=True)\n",
        "\n",
        "# Combine the records from both tables into one list while keeping the IDs\n",
        "combined_data_with_id = list(zip(df_ACM['id'], df_ACM['combined'])) + list(zip(df_DBLP2['id'], df_DBLP2['combined']))\n",
        "\n"
      ]
    },
    {
      "cell_type": "markdown",
      "source": [
        " compute the shingles, the minhash signature and the similarity."
      ],
      "metadata": {
        "id": "xjp5L6JCQQ6I"
      }
    },
    {
      "cell_type": "code",
      "source": [
        "def shingle(text, k=5):\n",
        "    \"\"\"Create a set of k-shingles from the input text.\"\"\"\n",
        "    return {text[i:i + k] for i in range(len(text) - k + 1)}\n",
        "\n",
        "shingled_list = [shingle(text) for _, text in combined_data_with_id]\n"
      ],
      "metadata": {
        "id": "p7osHDaTSjCM"
      },
      "execution_count": 107,
      "outputs": []
    },
    {
      "cell_type": "code",
      "source": [
        "def build_vocab(shingle_sets):\n",
        "    \"\"\"Build vocabulary from a list of shingle sets.\"\"\"\n",
        "    full_set = {shingle for s_set in shingle_sets for shingle in s_set}\n",
        "    return {shingle: idx for idx, shingle in enumerate(full_set)}\n",
        "\n",
        "def one_hot(shingles, vocab):\n",
        "    \"\"\"Generate one-hot encoding for a set of shingles based on the vocabulary.\"\"\"\n",
        "    vec = [0] * len(vocab)\n",
        "    for shingle in shingles:\n",
        "        idx = vocab.get(shingle)\n",
        "        if idx is not None:\n",
        "            vec[idx] = 1\n",
        "    return vec\n",
        "\n",
        "vocab = build_vocab(shingled_list)\n",
        "document_shingle_matrix = [one_hot(s, vocab) for s in shingled_list]\n"
      ],
      "metadata": {
        "id": "TuaGdLIRTlHD"
      },
      "execution_count": 108,
      "outputs": []
    },
    {
      "cell_type": "markdown",
      "source": [],
      "metadata": {
        "id": "7ooQK-4TUmmy"
      }
    },
    {
      "cell_type": "code",
      "source": [
        "def get_minhash_arr(num_hashes:int,vocab:dict):\n",
        "    \"\"\"\n",
        "    Generates a MinHash array for the given vocabulary.\n",
        "\n",
        "    This function creates an array where each row represents a hash function and\n",
        "    each column corresponds to a word in the vocabulary. The values are permutations\n",
        "    of integers representing the hashed value of each word for that particular hash function.\n",
        "\n",
        "    Parameters:\n",
        "    - num_hashes (int): The number of hash functions (rows) to generate for the MinHash array.\n",
        "    - vocab (dict): The vocabulary where keys are words and values can be any data\n",
        "      (only keys are used in this function).\n",
        "\n",
        "    Returns:\n",
        "    - np.ndarray: The generated MinHash array with `num_hashes` rows and columns equal\n",
        "      to the size of the vocabulary. Each cell contains the hashed value of the corresponding\n",
        "      word for the respective hash function.\n",
        "\n",
        "    Example:\n",
        "    vocab = {'apple': 1, 'banana': 2}\n",
        "    get_minhash_arr(2, vocab)\n",
        "    # Possible output:\n",
        "    # array([[1, 2],\n",
        "    #        [2, 1]])\n",
        "    \"\"\"\n",
        "    length = len(vocab.keys())\n",
        "    arr = np.zeros((num_hashes,length))\n",
        "    for i in range(num_hashes):\n",
        "        permutation = np.random.permutation(len(vocab.keys())) + 1\n",
        "        arr[i,:] = permutation.copy()\n",
        "    return arr.astype(int)\n",
        "def get_signature(minhash:np.ndarray, vector:np.ndarray):\n",
        "    \"\"\"\n",
        "    Computes the signature of a given vector using the provided MinHash matrix.\n",
        "\n",
        "    The function finds the nonzero indices of the vector, extracts the corresponding\n",
        "    columns from the MinHash matrix, and computes the signature as the minimum value\n",
        "    across those columns for each row of the MinHash matrix.\n",
        "\n",
        "    Parameters:\n",
        "    - minhash (np.ndarray): The MinHash matrix where each column represents a shingle\n",
        "      and each row represents a hash function.\n",
        "    - vector (np.ndarray): A vector representing the presence (non-zero values) or\n",
        "      absence (zero values) of shingles.\n",
        "\n",
        "    Returns:\n",
        "    - np.ndarray: The signature vector derived from the MinHash matrix for the provided vector.\n",
        "\n",
        "    Example:\n",
        "    minhash = np.array([[2, 3, 4], [5, 6, 7], [8, 9, 10]])\n",
        "    vector = np.array([0, 1, 0])\n",
        "    get_signature(minhash, vector)\n",
        "    output:array([3, 6, 9])\n",
        "    \"\"\"\n",
        "    idx = np.nonzero(vector)[0].tolist()\n",
        "    shingles = minhash[:,idx]\n",
        "    signature = np.min(shingles,axis=1)\n",
        "    return signature\n",
        "\n",
        "def jaccard_similarity(set1, set2):\n",
        "    intersection_size = len(set1.intersection(set2))\n",
        "    union_size = len(set1.union(set2))\n",
        "    return intersection_size / union_size if union_size != 0 else 0.0\n",
        "\n",
        "def compute_signature_similarity(signature_1, signature_2):\n",
        "    \"\"\"\n",
        "    Calculate the similarity between two signature matrices using MinHash.\n",
        "\n",
        "    Parameters:\n",
        "    - signature_1: First signature matrix as a numpy array.\n",
        "    - signature_matrix2: Second signature matrix as a numpy array.\n",
        "\n",
        "    Returns:\n",
        "    - Estimated Jaccard similarity.\n",
        "    \"\"\"\n",
        "    # Ensure the matrices have the same shape\n",
        "    if signature_1.shape != signature_2.shape:\n",
        "        raise ValueError(\"Both signature matrices must have the same shape.\")\n",
        "    # Count the number of rows where the two matrices agree\n",
        "    agreement_count = np.sum(signature_1 == signature_2)\n",
        "    # Calculate the similarity\n",
        "    similarity = agreement_count / signature_2.shape[0]\n",
        "\n",
        "    return similarity"
      ],
      "metadata": {
        "id": "_BnzcVQwSjPm"
      },
      "execution_count": 109,
      "outputs": []
    },
    {
      "cell_type": "code",
      "source": [
        "#LSH funtcion:\n",
        "\n",
        "class LSH:\n",
        "    \"\"\"\n",
        "    Implements the Locality Sensitive Hashing (LSH) technique for approximate\n",
        "    nearest neighbor search.\n",
        "    \"\"\"\n",
        "    buckets = []\n",
        "    counter = 0\n",
        "\n",
        "    def __init__(self, b: int):\n",
        "        \"\"\"\n",
        "        Initializes the LSH instance with a specified number of bands.\n",
        "\n",
        "        Parameters:\n",
        "        - b (int): The number of bands to divide the signature into.\n",
        "        \"\"\"\n",
        "        self.b = b\n",
        "        for i in range(b):\n",
        "            self.buckets.append({})\n",
        "\n",
        "    def make_subvecs(self, signature: np.ndarray) -> np.ndarray:\n",
        "        \"\"\"\n",
        "        Divides a given signature into subvectors based on the number of bands.\n",
        "\n",
        "        Parameters:\n",
        "        - signature (np.ndarray): The MinHash signature to be divided.\n",
        "\n",
        "        Returns:\n",
        "        - np.ndarray: A stacked array where each row is a subvector of the signature.\n",
        "        \"\"\"\n",
        "        l = len(signature)\n",
        "        assert l % self.b == 0\n",
        "        r = int(l / self.b)\n",
        "        subvecs = []\n",
        "        for i in range(0, l, r):\n",
        "            subvecs.append(signature[i:i+r])\n",
        "        return np.stack(subvecs)\n",
        "\n",
        "    def add_hash(self, signature: np.ndarray):\n",
        "        \"\"\"\n",
        "        Adds a signature to the appropriate LSH buckets based on its subvectors.\n",
        "\n",
        "        Parameters:\n",
        "        - signature (np.ndarray): The MinHash signature to be hashed and added.\n",
        "        \"\"\"\n",
        "        subvecs = self.make_subvecs(signature).astype(str)\n",
        "        for i, subvec in enumerate(subvecs):\n",
        "            subvec = ','.join(subvec)\n",
        "            if subvec not in self.buckets[i].keys():\n",
        "                self.buckets[i][subvec] = []\n",
        "            self.buckets[i][subvec].append(self.counter)\n",
        "        self.counter += 1\n",
        "\n",
        "    def check_candidates(self) -> set:\n",
        "        \"\"\"\n",
        "        Identifies candidate pairs from the LSH buckets that could be potential near duplicates.\n",
        "\n",
        "        Returns:\n",
        "        - set: A set of tuple pairs representing the indices of candidate signatures.\n",
        "        \"\"\"\n",
        "        candidates = []\n",
        "        for bucket_band in self.buckets:\n",
        "            keys = bucket_band.keys()\n",
        "            for bucket in keys:\n",
        "                hits = bucket_band[bucket]\n",
        "                if len(hits) > 1:\n",
        "                    candidates.extend(combinations(hits, 2))\n",
        "        return set(candidates)"
      ],
      "metadata": {
        "id": "nBDDtI34WBn4"
      },
      "execution_count": 110,
      "outputs": []
    },
    {
      "cell_type": "code",
      "source": [
        "# Step 1: Generate the MinHash Array\n",
        "num_hashes = 500  # The number of hash functions to use for MinHash\n",
        "minhash_array = get_minhash_arr(num_hashes, vocab)\n",
        "\n",
        "# Step 2: Compute MinHash Signatures for all documents\n",
        "signatures = [get_signature(minhash_array, vec) for vec in document_shingle_matrix]\n",
        "\n",
        "# Step 3: Compute Similarities (for demonstration, we'll compute similarity between the first two documents)\n",
        "# Estimated Jaccard similarity using MinHash signatures\n",
        "similarity_estimate = compute_signature_similarity(signatures[0], signatures[1])\n",
        "\n",
        "# Actual Jaccard similarity between the original shingle sets\n",
        "actual_similarity = jaccard_similarity(shingled_list[0], shingled_list[1])\n",
        "\n",
        "print(f\"Estimated Jaccard Similarity: {similarity_estimate}\")\n",
        "print(f\"Actual Jaccard Similarity: {actual_similarity}\")\n"
      ],
      "metadata": {
        "colab": {
          "base_uri": "https://localhost:8080/"
        },
        "id": "HMbAN_3OSjTM",
        "outputId": "5be7d5bb-c5b0-474d-98b2-62a6c371cc57"
      },
      "execution_count": 111,
      "outputs": [
        {
          "output_type": "stream",
          "name": "stdout",
          "text": [
            "Estimated Jaccard Similarity: 0.226\n",
            "Actual Jaccard Similarity: 0.20502092050209206\n"
          ]
        }
      ]
    },
    {
      "cell_type": "markdown",
      "source": [
        "Use the functions in the tutorials from lab 5 to compute the shingles, the minhash signature and the similarity."
      ],
      "metadata": {
        "id": "O9a75zcGQm8y"
      }
    },
    {
      "cell_type": "code",
      "source": [
        "# Number of bands for LSH\n",
        "bands = 50\n",
        "\n",
        "# Initialize LSH\n",
        "lsh = LSH(bands)\n",
        "\n",
        "# Add all signatures to LSH\n",
        "for signature in signatures:\n",
        "    lsh.add_hash(signature)\n",
        "\n",
        "# Extract candidate pairs using LSH\n",
        "candidates = lsh.check_candidates()\n",
        "\n",
        "# Get top 2224 candidates\n",
        "top_candidates = list(candidates)[:2224]"
      ],
      "metadata": {
        "id": "2dQ5fpjeV748"
      },
      "execution_count": 112,
      "outputs": []
    },
    {
      "cell_type": "code",
      "source": [
        "df_PerfectMapping = pd.read_csv('DBLP-ACM_perfectMapping.csv', header=0, quotechar='\"', sep=\",\", na_values=['na', '-', '.', ''])\n"
      ],
      "metadata": {
        "id": "VYBxI4ZgVOsE"
      },
      "execution_count": 113,
      "outputs": []
    },
    {
      "cell_type": "markdown",
      "source": [
        "Extract the top 2224 candidates from the LSH algorithm, compare them to the actual mappings in the file DBLP-ACM_perfectMapping.csv and compute the precision of the method."
      ],
      "metadata": {
        "id": "o77ciJ5XQqfh"
      }
    },
    {
      "cell_type": "code",
      "source": [
        "\n",
        "actual_mappings = set(tuple(rec) for rec in df_PerfectMapping[['idACM', 'idDBLP']].to_records(index=False))\n",
        "# First, determine the split index where ACM data ends and DBLP2 data begins\n",
        "split_index = len(df_ACM)\n",
        "\n",
        "# Filter the candidates to ensure that one ID is from ACM and the other is from DBLP2\n",
        "filtered_candidates = [(i, j) for i, j in candidates if i < split_index and j >= split_index]\n",
        "\n",
        "# Get the top 2224 candidates from the filtered list\n",
        "top_candidates_filtered = filtered_candidates[:2224]\n",
        "\n",
        "# Construct top_candidates_ids_adjusted using the filtered candidate pairs\n",
        "top_candidates_ids_adjusted = {(combined_data_with_id[i][0], combined_data_with_id[j][0]) for i, j in top_candidates_filtered}\n",
        "\n",
        "# Compute precision using the adjusted top_candidates_ids\n",
        "correct_candidates_adjusted = actual_mappings.intersection(top_candidates_ids_adjusted)\n",
        "precision_adjusted = len(correct_candidates_adjusted) / len(top_candidates_ids_adjusted)\n",
        "\n",
        "print(f\"Adjusted Precision: {precision_adjusted:.4f}\")\n",
        "print(\"Correctly identified pairs:\", correct_candidates_adjusted)\n",
        "print(len(correct_candidates_adjusted))\n",
        "\n"
      ],
      "metadata": {
        "colab": {
          "base_uri": "https://localhost:8080/"
        },
        "id": "tFhc7UH_rt2h",
        "outputId": "3fdd7c6f-dfdd-461b-e51d-1bcd5c98115c"
      },
      "execution_count": 114,
      "outputs": [
        {
          "output_type": "stream",
          "name": "stdout",
          "text": [
            "Adjusted Precision: 0.9320\n",
            "Correctly identified pairs: {(672213, 'conf/vldb/NarayananS01'), (253274, 'conf/sigmod/HoAMS97'), (223857, 'conf/sigmod/Team95'), (273254, 'journals/sigmod/BurtonM98'), (191930, 'conf/sigmod/DanielsDDEHJJLSSS94'), (362091, 'journals/sigmod/KantM00'), (564695, 'conf/sigmod/KalnisNOPT02'), (637428, 'journals/sigmod/Grohe02'), (181567, 'journals/sigmod/NorrieBSW94'), (212020, 'journals/sigmod/RosenthalSMBTL95'), (671869, 'conf/vldb/HelalL00'), (604271, 'journals/sigmod/SayginVC01'), (233333, 'conf/sigmod/HarinarayanRU96'), (640993, 'journals/sigmod/Chang03'), (245906, 'journals/sigmod/Sidell96'), (604282, 'journals/sigmod/ShahMFH01'), (672008, 'conf/vldb/ChoenniV00'), (671495, 'conf/vldb/TamuraK99'), (672039, 'conf/vldb/SindoniTABFGMPPT01'), (306144, 'journals/sigmod/EisenbergM98a'), (671524, 'conf/vldb/CeriFP99'), (564750, 'conf/sigmod/DogacTPPLKTK02'), (672375, 'conf/vldb/ChaHKK01'), (671517, 'conf/vldb/JermaineDO99'), (603886, 'journals/sigmod/LabrinidisM01'), (945741, 'journals/sigmod/Anisimov03'), (672012, 'conf/vldb/Ramaswamy00'), (673303, 'conf/vldb/SeligmanBNSW95'), (191942, 'conf/sigmod/Vaskevitch94'), (245886, 'journals/sigmod/Darwen96'), (672991, 'conf/vldb/FerrandinaMZ94'), (673475, 'conf/vldb/BertinoBFS96'), (310710, 'journals/tods/DattaVCK99'), (640995, 'journals/sigmod/BertinoEH03'), (671681, 'conf/vldb/RisheYACLMVSV00'), (212015, 'journals/sigmod/PitouraB95'), (564743, 'conf/sigmod/Aggarwal02'), (673628, 'conf/vldb/ChatziantoniouR96'), (758378, 'conf/vldb/ChakrabartiSST00'), (375764, 'conf/sigmod/BertinoCF01'), (776991, 'journals/sigmod/FifeG03'), (603878, 'journals/sigmod/Lomet01'), (331992, 'journals/tods/YanG99'), (190638, 'journals/sigmod/JainH94'), (603874, 'journals/sigmod/Suciu01'), (181566, 'journals/sigmod/MedeirosP94'), (280355, 'conf/sigmod/QuassWGHLMNRRAUW96'), (273247, 'journals/sigmod/Chaudhri98'), (671326, 'conf/vldb/MiloZ98'), (262766, 'journals/sigmod/HadzilacosT97'), (671329, 'conf/vldb/Ganguly98'), (637414, 'journals/sigmod/SureSS02'), (290605, 'journals/sigmod/FlorescuLM98'), (671669, 'conf/vldb/Chawathe99'), (190639, 'journals/sigmod/KiyokiKH94'), (565125, 'journals/sigmod/Camps02'), (671836, 'conf/vldb/NetzCBF00'), (945725, 'journals/sigmod/AilamakiH03'), (672827, 'conf/vldb/NgH94'), (671525, 'conf/vldb/CarinoOBS99'), (671017, 'conf/vldb/BohannonLRSSS97'), (202665, 'journals/sigmod/NgH95'), (344828, 'journals/sigmod/PaepckeGRC00'), (381882, 'journals/sigmod/AdelbergKG96'), (271082, 'journals/sigmod/McHughW97'), (872823, 'conf/sigmod/ChengKP03'), (507346, 'journals/sigmod/Kim02'), (232622, 'journals/tods/LiuM96'), (176570, 'journals/tods/ScioreSR94'), (271080, 'journals/sigmod/AtzeniMM97'), (202672, 'journals/sigmod/SchlageterBHMSW95'), (672365, 'conf/vldb/NatsevCSLV01'), (565139, 'journals/sigmod/BargaL02'), (672359, 'conf/vldb/Sondag01'), (310066, 'journals/sigmod/RoantreeMH99'), (253347, 'conf/sigmod/KatayamaS97'), (672968, 'conf/vldb/CochinwalaB94'), (671863, 'conf/vldb/LakshmananJN00'), (672007, 'conf/vldb/RamamrithamABEGP00'), (671846, 'conf/vldb/ManolescuFKXO00'), (191856, 'conf/sigmod/GibbsBT94'), (671845, 'conf/vldb/SchaeferBBJ00'), (344822, 'journals/sigmod/BonifatiC00'), (671503, 'conf/vldb/HoskingC99'), (276383, 'conf/sigmod/AvnurHLORRRW98'), (640994, 'journals/sigmod/WenLMZ03'), (959085, 'journals/sigmod/MotroA03'), (333610, 'journals/sigmod/BoulosO99'), (564758, 'conf/sigmod/SzalayGTKMRSv02'), (671854, 'conf/vldb/DiligentiCLGG00'), (872790, 'conf/sigmod/GangulyGR03'), (673664, 'conf/vldb/KraissW97'), (507350, 'journals/sigmod/BallMRZ02'), (945728, 'journals/sigmod/BawaCCDGGKMSSVY03'), (306115, 'journals/sigmod/ReichB98'), (673498, 'conf/vldb/CochranePM96'), (959083, 'journals/sigmod/LenzVJS03'), (248615, 'journals/sigmod/RamanathanH97'), (671870, 'conf/vldb/CarusoCGLM00'), (776995, 'journals/sigmod/Hoffner03'), (672179, 'conf/vldb/BlokWZPAKJ01'), (181565, 'journals/sigmod/Loeffen94'), (273251, 'journals/sigmod/Seshadri98'), (234900, 'journals/sigmod/Dogac96'), (672197, 'conf/vldb/BerckenS01'), (565141, 'journals/sigmod/EisenbergM02'), (190631, 'journals/sigmod/Bertram94'), (637422, 'journals/sigmod/GobleR02a'), (672005, 'conf/vldb/GrumbachRS00'), (945735, 'journals/sigmod/Ouksel03'), (672194, 'conf/vldb/BaumgartnerFG01'), (671676, 'conf/vldb/SakuraiYUK00'), (671513, 'conf/vldb/BaumannDFRW99'), (945733, 'journals/sigmod/ArenasKKKMM03'), (344794, 'journals/sigmod/LabrinidisR00'), (202673, 'journals/sigmod/MedskerCS95'), (248609, 'journals/sigmod/FrewD97'), (672835, 'conf/vldb/HasanM94'), (671005, 'conf/vldb/CiacciaPZ97'), (234894, 'journals/sigmod/HasanFV96'), (375774, 'conf/sigmod/AgichteinGV01'), (637435, 'journals/sigmod/RoantreeS02'), (253393, 'conf/sigmod/AtzeniT97'), (673005, 'conf/vldb/BrownMCL94'), (234893, 'journals/sigmod/GerlhofKM96'), (950487, 'journals/vldb/AgrawalHK03'), (672966, 'conf/vldb/AnandBH94'), (672004, 'conf/vldb/SrinivasanDFCJYKTDB00'), (673294, 'conf/vldb/GravanoG95'), (304248, 'conf/sigmod/BergstraesserBPS99'), (673330, 'conf/vldb/BouganimFV96'), (253276, 'conf/sigmod/RoussopoulosKR97'), (671874, 'conf/vldb/JohnsonA00'), (190646, 'journals/sigmod/ChenHKPW94'), (872835, 'conf/sigmod/PadmanabhanBMCH03'), (223850, 'conf/sigmod/LuMSS95'), (945739, 'journals/sigmod/MalaikaEM03'), (673312, 'conf/vldb/ChaudhuriGS95'), (335494, 'conf/sigmod/FegarasSRM00'), (601865, 'journals/sigmod/Aberer02b'), (672192, 'conf/vldb/VeltriCV01'), (362138, 'journals/sigmod/VetterliVS00'), (671692, 'conf/vldb/PottingerL00'), (672841, 'conf/vldb/BrinkhoffK94'), (565124, 'journals/sigmod/HalkidiBV02'), (223843, 'conf/sigmod/BettiniWBJ95'), (671871, 'conf/vldb/Bowker00'), (331984, 'journals/tods/DeySB99'), (671197, 'conf/vldb/HelmerWM98'), (673331, 'conf/vldb/LeeL96'), (335439, 'conf/sigmod/SzalayGKT00'), (223796, 'conf/sigmod/Freeston95'), (274461, 'journals/sigmod/BaaderJN97'), (381889, 'journals/sigmod/BerndtssonH96'), (872815, 'conf/sigmod/CuiOTS03'), (671190, 'conf/vldb/GeorgeH98'), (671175, 'conf/vldb/BaulierBGJGKKMMNNRSS98'), (212007, 'journals/sigmod/Fong95'), (959086, 'journals/sigmod/KambhampatiK03'), (261125, 'journals/tods/FranklinCL97'), (369291, 'journals/sigmod/PoessF00'), (187457, 'journals/sigmod/Widom94'), (191860, 'conf/sigmod/MumickP94'), (174640, 'journals/tods/OliverS94'), (670997, 'conf/vldb/GinisHKMT97'), (248607, 'journals/sigmod/KramerNKRLKLZ97'), (373631, 'journals/sigmod/BiancheriPP01'), (507341, 'journals/sigmod/TianDCZ02'), (604267, 'journals/sigmod/StolfoLCFE01'), (945736, 'journals/sigmod/KoubarakisTID03'), (673166, 'conf/vldb/BelussiF95'), (233352, 'conf/sigmod/GarofalakisI96'), (304215, 'conf/sigmod/KotidisR99'), (507342, 'journals/sigmod/Cingil02'), (672353, 'conf/vldb/TsurAADKW01'), (306103, 'journals/sigmod/Danish98'), (673164, 'conf/vldb/AmmannJR95'), (958944, 'journals/tods/LakshmananLN03'), (245890, 'journals/sigmod/Ioannidis96'), (273258, 'journals/sigmod/TsotrasJS98'), (945724, 'journals/sigmod/Halevy03'), (872789, 'conf/sigmod/BabcockBDM03'), (672178, 'conf/vldb/OoiYTJ01'), (309886, 'journals/sigmod/PapazoglouH99'), (278249, 'journals/tods/ZaharioudakisCF97'), (373708, 'journals/sigmod/BoscMP01'), (672017, 'conf/vldb/GantiLR00'), (276342, 'conf/sigmod/RajagopalanML98'), (637424, 'journals/sigmod/Aberer02c'), (245898, 'journals/sigmod/SantucciT96'), (640997, 'journals/sigmod/MarchiLPT03'), (671511, 'conf/vldb/LakshmananSS99'), (945737, 'journals/sigmod/PitouraAPSV03'), (309878, 'journals/sigmod/SmithO99'), (672182, 'conf/vldb/BunkerCCMMW01'), (383737, 'journals/tods/HsuSY01'), (672842, 'conf/vldb/LitwinNS94'), (673131, 'conf/vldb/BestavrosB95'), (671015, 'conf/vldb/LeeLWS97'), (306129, 'journals/sigmod/Domingo-FerrerH98'), (671877, 'conf/vldb/OlstonW00'), (507351, 'journals/sigmod/Bussler02'), (306141, 'journals/sigmod/Ritter98'), (373684, 'journals/sigmod/BertinoEH01'), (671502, 'conf/vldb/Dayal99'), (672040, 'conf/vldb/LiCHPALHAY01'), (672969, 'conf/vldb/BarjaPFWD94'), (373699, 'journals/sigmod/Critchlow01'), (565143, 'journals/sigmod/Fagin02'), (277639, 'journals/tods/KonopnickiS98'), (262764, 'journals/sigmod/BarbaraS97'), (565123, 'journals/sigmod/Kosch02'), (672199, 'conf/vldb/CareyKRLABFLOPQRSSUVWY01'), (304583, 'conf/sigmod/BonnetBCCCHKMMOSS99'), (233335, 'conf/sigmod/LibkinMW96'), (673147, 'conf/vldb/GoyalHSS95'), (672189, 'conf/vldb/BaumgartnerFG01a'), (248618, 'journals/sigmod/Qian97'), (565120, 'journals/sigmod/OrlandicLS02'), (671686, 'conf/vldb/LuL00'), (375731, 'conf/sigmod/DoanDH01'), (234898, 'journals/sigmod/BilirisP96'), (278247, 'journals/tods/TariSS97'), (565135, 'journals/sigmod/Hammer02'), (369287, 'journals/sigmod/Jhingran00'), (309895, 'journals/sigmod/SycaraKWL99'), (672355, 'conf/vldb/AbrolLMMMRTWZ01'), (673466, 'conf/vldb/SevcikK96'), (672016, 'conf/vldb/BalminPP00'), (758380, 'conf/vldb/ChristopheBPV00'), (202671, 'journals/sigmod/Jarke95'), (381879, 'journals/sigmod/SonDT96'), (777000, 'journals/sigmod/ChongFTSYKDJJ03'), (288089, 'journals/tods/StolboushkinT98'), (234903, 'journals/sigmod/Qian96a'), (373638, 'journals/sigmod/Aggarwal01'), (672963, 'conf/vldb/XieH94'), (672364, 'conf/vldb/DattaDTVRF01'), (671173, 'conf/vldb/Moerkotte98'), (673497, 'conf/vldb/AgarwalADGNRS96'), (245900, 'journals/sigmod/HasanMV96'), (872813, 'conf/sigmod/SunAA03'), (375722, 'conf/sigmod/ZhangNDLL01'), (671857, 'conf/vldb/LaneEN00'), (564763, 'conf/sigmod/LuoKMPWLN02'), (202668, 'journals/sigmod/Chaudhri95'), (945731, 'journals/sigmod/NejdlSS03'), (191988, 'conf/sigmod/BrinkhoffKSS94a'), (673318, 'conf/vldb/ReuterCGSW95'), (335376, 'conf/sigmod/ShenoyHSBBS00'), (872832, 'conf/sigmod/DeHaanTCO03'), (604286, 'journals/sigmod/ShethMKA01'), (344789, 'journals/sigmod/RoddickABDEGHLMMMW00'), (671170, 'conf/vldb/RamaswamyMS98'), (671194, 'conf/vldb/RezendeH98'), (601869, 'journals/sigmod/Neven02'), (672009, 'conf/vldb/RamasamyPNK00'), (673306, 'conf/vldb/Madnick95'), (672982, 'conf/vldb/AmielBDS94'), (959073, 'journals/sigmod/GerlaX03'), (383736, 'journals/tods/DekhtyarRS01'), (671347, 'conf/vldb/AcharyaGP99'), (776989, 'journals/sigmod/MukhopadhyayGS03'), (603876, 'journals/sigmod/LudascherMM01'), (604270, 'journals/sigmod/LeeF01'), (672351, 'conf/vldb/Gibbons01'), (671186, 'conf/vldb/MorimotoFMTY98'), (212024, 'journals/sigmod/Richey95'), (202661, 'journals/sigmod/Zhang95'), (673155, 'conf/vldb/AgrawalLSS95'), (671022, 'conf/vldb/ChangG97'), (248614, 'journals/sigmod/Fong97'), (637415, 'journals/sigmod/BusslerFM02'), (776994, 'journals/sigmod/Aberer03b'), (187442, 'journals/sigmod/Datta94'), (673324, 'conf/vldb/Gupta96'), (565137, 'journals/sigmod/LaenderRST02'), (671185, 'conf/vldb/MengLYWCR98'), (604280, 'journals/sigmod/MeltonE01'), (671855, 'conf/vldb/KemmeA00'), (344860, 'journals/sigmod/MusickC99'), (304235, 'conf/sigmod/KrishnamurthyBN99'), (671340, 'conf/vldb/ArgePRSV98'), (344839, 'journals/sigmod/HansonN99'), (233336, 'conf/sigmod/Agarwal96'), (276364, 'conf/sigmod/NgLK98'), (671674, 'conf/vldb/X00'), (232796, 'journals/tods/DeyS96'), (219727, 'journals/sigmod/DunhamH95a'), (219763, 'journals/sigmod/VenkatraoP95'), (673484, 'conf/vldb/GardarinGT96'), (271096, 'journals/sigmod/DadamK97'), (271083, 'journals/sigmod/NadoH97'), (671018, 'conf/vldb/ShaferA97'), (672995, 'conf/vldb/SreenathS94'), (234901, 'journals/sigmod/Colliat96'), (262767, 'journals/sigmod/JukicV97'), (232628, 'journals/tods/Ross96'), (276309, 'conf/sigmod/RaoR98'), (673465, 'conf/vldb/CareyD96'), (671355, 'conf/vldb/LiRS99'), (673135, 'conf/vldb/HoelS95'), (375673, 'conf/sigmod/JoshiA01'), (375718, 'conf/sigmod/LazaridisM01'), (344803, 'journals/sigmod/Vassilakis00'), (306133, 'journals/sigmod/ChristoffelPSL98'), (210200, 'journals/tods/Chomicki95'), (369282, 'journals/sigmod/YuenCLL00'), (185854, 'journals/tods/KorthS94'), (219760, 'journals/sigmod/EnglertGH95'), (671346, 'conf/vldb/GoldmanSVG98'), (673493, 'conf/vldb/KornSFSP96'), (672191, 'conf/vldb/MadhavanBR01'), (248610, 'journals/sigmod/Gardels97'), (236714, 'journals/tods/RaschidL96'), (253322, 'conf/sigmod/Arpaci-DusseauACHP97'), (276314, 'conf/sigmod/AgrawalGGR98'), (671701, 'conf/vldb/AgrawalCN00'), (671335, 'conf/vldb/BelloDDFNSWZ98'), (776987, 'journals/sigmod/JukicNV03'), (671842, 'conf/vldb/PedersenJD00'), (671338, 'conf/vldb/FangSGMU98'), (673153, 'conf/vldb/YanG95'), (671679, 'conf/vldb/ChoG00'), (959069, 'journals/sigmod/AilamakiFFSV03'), (671166, 'conf/vldb/CareyK98'), (233315, 'conf/sigmod/SelfridgeSW96'), (945734, 'journals/sigmod/OoiST03'), (670996, 'conf/vldb/HuangJR97'), (671363, 'conf/vldb/VorugantiOU99'), (672822, 'conf/vldb/ChawatheCY94'), (344850, 'journals/sigmod/Libkin99'), (671530, 'conf/vldb/VriesDBA99'), (601863, 'journals/sigmod/HuangKL02'), (673501, 'conf/vldb/RysNS96'), (304183, 'conf/sigmod/MamoulisP99'), (673640, 'conf/vldb/SkubiszewskiV97'), (673480, 'conf/vldb/BerckenS96'), (673469, 'conf/vldb/LevyRO96'), (181554, 'journals/sigmod/Yang94'), (253277, 'conf/sigmod/MumickQM97'), (190647, 'journals/sigmod/BarclayBGS94'), (672377, 'conf/vldb/LahiriSCMC01'), (959067, 'journals/sigmod/BonnetBDL03'), (564742, 'conf/sigmod/ChoiC02'), (211994, 'journals/sigmod/AbiteboulH95'), (191869, 'conf/sigmod/GravanoGT94'), (212013, 'journals/sigmod/Wong95'), (601862, 'journals/sigmod/HalkidiBV02a'), (671330, 'conf/vldb/GehrkeRG98'), (672206, 'conf/vldb/ZhouLZLZJT01'), (673295, 'conf/vldb/HaasNSS95'), (174642, 'journals/tods/CliffordC94'), (564749, 'conf/sigmod/BhattacharyaMBNHS02'), (245893, 'journals/sigmod/Ahlberg96'), (306102, 'journals/sigmod/BichlerSZ98'), (672363, 'conf/vldb/PapadiasT01'), (637419, 'journals/sigmod/AbererCH02'), (959079, 'journals/sigmod/WangD03'), (604268, 'journals/sigmod/BarbaraCJW01'), (344808, 'journals/sigmod/DongS00'), (306119, 'journals/sigmod/BollKB98'), (233317, 'conf/sigmod/VanceM96'), (959081, 'journals/sigmod/Wiegand03'), (671862, 'conf/vldb/CareyKSSS00'), (212003, 'journals/sigmod/DoanPK95'), (381895, 'journals/sigmod/Wade96'), (304187, 'conf/sigmod/AnkerstBKS99'), (603870, 'journals/sigmod/Fankhauser01'), (223791, 'conf/sigmod/GardarinMP95'), (373691, 'journals/sigmod/FengJH01'), (637417, 'journals/sigmod/MaximilienS02'), (335426, 'conf/sigmod/ForlizziGNS00'), (637430, 'journals/sigmod/ShethM02'), (673134, 'conf/vldb/HanF95'), (369284, 'journals/sigmod/Halevy00'), (959084, 'journals/sigmod/Giorgini03'), (344864, 'journals/sigmod/EisenbergM99a'), (673302, 'conf/vldb/AmsalegFG95'), (565121, 'journals/sigmod/PourabbasR02'), (671861, 'conf/vldb/Schek00'), (373709, 'journals/sigmod/MeltonMJKSZ01'), (273253, 'journals/sigmod/Roussopoulos98'), (320249, 'journals/tods/ChaudhuriS99'), (640996, 'journals/sigmod/David03'), (758379, 'conf/vldb/YagoubFIV00a'), (187447, 'journals/sigmod/YeungHL94'), (672965, 'conf/vldb/PoulovassilisS94'), (273264, 'journals/sigmod/ChangASS98'), (671336, 'conf/vldb/Vieille98'), (671518, 'conf/vldb/BouganimCDDGS99'), (601879, 'journals/sigmod/LuoI02'), (271094, 'journals/sigmod/GrayG97'), (959087, 'journals/sigmod/Hainaut03'), (671499, 'conf/vldb/ShanmugasundaramGTZDN99'), (309852, 'journals/sigmod/Mackay99'), (671324, 'conf/vldb/Amer-YahiaCD98'), (671868, 'conf/vldb/LingLL00'), (219735, 'journals/sigmod/ElmagarmidJF95'), (190644, 'journals/sigmod/GroskyFS94'), (273265, 'journals/sigmod/KoksalAD98'), (362136, 'journals/sigmod/Bussche00'), (190648, 'journals/sigmod/MattosD94'), (310063, 'journals/sigmod/SouzaS99'), (232691, 'journals/tods/BellNNS96'), (672174, 'conf/vldb/GilbertKMS01'), (672374, 'conf/vldb/AnSVKIG01'), (767139, 'journals/vldb/ShegalovGW01'), (212014, 'journals/sigmod/KokkotosIPS95'), (219754, 'journals/sigmod/SegevJS95'), (362140, 'journals/sigmod/LeeC00'), (357777, 'journals/tods/CuiWW00'), (637433, 'journals/sigmod/MeltonE02'), (641270, 'journals/vldb/AnGSVKI02'), (672019, 'conf/vldb/PfoserJT00'), (233311, 'conf/sigmod/SrikantA96'), (776996, 'journals/sigmod/Nascimento03'), (672831, 'conf/vldb/TeisseirePC94'), (640992, 'journals/sigmod/GottlobKP03'), (245885, 'journals/sigmod/Date96'), (671192, 'conf/vldb/WeberSB98'), (673657, 'conf/vldb/YangKL97'), (233360, 'conf/sigmod/SeshadriHPLRSSS96'), (273271, 'journals/sigmod/Bernstein98'), (671873, 'conf/vldb/Bar-YossefBCFW00'), (233365, 'conf/sigmod/HullZ96'), (262770, 'journals/sigmod/McHughAGQW97'), (507353, 'journals/sigmod/Aberer02'), (248616, 'journals/sigmod/ChaudhuriD97'), (248617, 'journals/sigmod/DoanPSB97'), (195675, 'journals/tods/WinslettSQ94'), (181555, 'journals/sigmod/DiazJPa94'), (253395, 'conf/sigmod/HammerGNYBV97'), (604274, 'journals/sigmod/Aberer01a'), (306124, 'journals/sigmod/BuchnerM98'), (603869, 'journals/sigmod/Aberer01'), (245903, 'journals/sigmod/ShethGJRSWW96'), (765533, 'journals/vldb/ChakrabartiDAR98'), (672027, 'conf/vldb/JensenL01'), (310061, 'journals/sigmod/Gal99'), (959080, 'journals/sigmod/GalianoM03'), (219742, 'journals/sigmod/AlonsoCIM95'), (276338, 'conf/sigmod/JaedickeM98'), (362096, 'journals/sigmod/WuY00'), (202663, 'journals/sigmod/KarlapalemLS95'), (344853, 'journals/sigmod/Abiteboul99'), (672361, 'conf/vldb/SundaraHCAS01'), (248606, 'journals/sigmod/TomasicS97'), (233366, 'conf/sigmod/ChawatheRGW96'), (756647, 'conf/vldb/GuPS00'), (673144, 'conf/vldb/MillinerBP95'), (671521, 'conf/vldb/PacittMS99'), (673327, 'conf/vldb/Hess96'), (673138, 'conf/vldb/SubietaKL95'), (362137, 'journals/sigmod/WestmannKHM00'), (344857, 'journals/sigmod/JacobS99'), (671356, 'conf/vldb/NaumannLF99'), (262769, 'journals/sigmod/RamamrithamS97'), (777944, 'journals/tods/TaoP03'), (290597, 'journals/sigmod/GriffinK98'), (673321, 'conf/vldb/PoosalaI96'), (959066, 'journals/sigmod/Mani03'), (671505, 'conf/vldb/KeimH99'), (276385, 'conf/sigmod/LacroixSC98'), (234895, 'journals/sigmod/BrunieK96'), (373680, 'journals/sigmod/PuSW01')}\n",
            "466\n"
          ]
        }
      ]
    },
    {
      "cell_type": "markdown",
      "source": [
        "Record the running time of the method."
      ],
      "metadata": {
        "id": "nMhYz2uyQugh"
      }
    },
    {
      "cell_type": "code",
      "source": [
        "end_time = time.time()\n",
        "total_time = end_time - start_time\n",
        "print(f\"Total running time: {total_time:.2f} seconds\")\n",
        "\n"
      ],
      "metadata": {
        "id": "O1Fjzgz3Sjl0",
        "colab": {
          "base_uri": "https://localhost:8080/"
        },
        "outputId": "e5ca125a-216d-4e11-f507-20c1d5384a3f"
      },
      "execution_count": 115,
      "outputs": [
        {
          "output_type": "stream",
          "name": "stdout",
          "text": [
            "Total running time: 79.33 seconds\n"
          ]
        }
      ]
    },
    {
      "cell_type": "code",
      "source": [],
      "metadata": {
        "id": "B8_WdV1RSjog"
      },
      "execution_count": 115,
      "outputs": []
    },
    {
      "cell_type": "code",
      "source": [],
      "metadata": {
        "id": "E6qS7t4BSjq9"
      },
      "execution_count": 115,
      "outputs": []
    },
    {
      "cell_type": "code",
      "source": [],
      "metadata": {
        "id": "OCuwAQxsSjtu"
      },
      "execution_count": 115,
      "outputs": []
    },
    {
      "cell_type": "code",
      "source": [],
      "metadata": {
        "id": "LUMZ3lCHSjwK"
      },
      "execution_count": 115,
      "outputs": []
    },
    {
      "cell_type": "code",
      "source": [],
      "metadata": {
        "id": "gNYPv4xESjyx"
      },
      "execution_count": 115,
      "outputs": []
    },
    {
      "cell_type": "code",
      "source": [],
      "metadata": {
        "id": "JxIiVg4SSj1Y"
      },
      "execution_count": 115,
      "outputs": []
    },
    {
      "cell_type": "code",
      "source": [],
      "metadata": {
        "id": "Uft3pQ9qSj3a"
      },
      "execution_count": 115,
      "outputs": []
    }
  ]
}